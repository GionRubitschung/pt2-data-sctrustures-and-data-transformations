{
 "cells": [
  {
   "cell_type": "markdown",
   "id": "41395333",
   "metadata": {},
   "source": [
    "# Import Section"
   ]
  },
  {
   "cell_type": "code",
   "execution_count": 1,
   "id": "initial_id",
   "metadata": {
    "collapsed": true
   },
   "outputs": [],
   "source": [
    "from bs4 import BeautifulSoup\n",
    "import pandas as pd\n",
    "import duckdb\n",
    "import requests\n",
    "from dataclasses import dataclass\n",
    "from datetime import datetime"
   ]
  },
  {
   "cell_type": "markdown",
   "id": "06f037df",
   "metadata": {},
   "source": [
    "# Job Extraction"
   ]
  },
  {
   "cell_type": "code",
   "execution_count": 2,
   "id": "bd3c0024",
   "metadata": {},
   "outputs": [],
   "source": [
    "search_term = r\"data%20engineer\""
   ]
  },
  {
   "cell_type": "code",
   "execution_count": 3,
   "id": "06e635e5",
   "metadata": {},
   "outputs": [],
   "source": [
    "@dataclass\n",
    "class Job:\n",
    "    published: datetime\n",
    "    title: str\n",
    "    location: str\n",
    "    workload: str\n",
    "    employment_type: str\n",
    "    company: str\n",
    "\n",
    "def get_jobs(soup):\n",
    "    job_elements = soup.find(\"div\", class_=\"d_grid gap_s16 ov_hidden p_s8 pb_s16\").find_all(\n",
    "        \"div\", class_=\"d_flex bg-c_white bdr_r16 flex-d_column h_100% p_s16 pos_relative\"\n",
    "    )\n",
    "    for job_element in job_elements:\n",
    "        found_job = list(job_element.stripped_strings)\n",
    "\n",
    "        del found_job[1]\n",
    "        found_job = [item for item in found_job if \"Quick apply\" not in item and \"Recommended\" not in item]\n",
    "        if len(found_job) == 6:\n",
    "            yield Job(\n",
    "                published=datetime.strptime(found_job[0].replace(\"Published: \", \"\"), \"%d %B %Y\").date(),\n",
    "                title=found_job[1],\n",
    "                location=found_job[2],\n",
    "                workload=found_job[3],\n",
    "                employment_type=found_job[4],\n",
    "                company=found_job[5],\n",
    "            )\n"
   ]
  },
  {
   "cell_type": "code",
   "execution_count": 4,
   "id": "839054a3",
   "metadata": {},
   "outputs": [
    {
     "name": "stdout",
     "output_type": "stream",
     "text": [
      "1304\n",
      "Job(published=datetime.date(2024, 11, 27), title='MES Engineer', location='Solothurn', workload='100%', employment_type='Unlimited employment', company='Emerson Automation Solutions')\n"
     ]
    }
   ],
   "source": [
    "url = f\"https://www.jobs.ch/en/vacancies/?term={search_term}\"\n",
    "page = requests.get(url)\n",
    "soup = BeautifulSoup(page.content, \"html.parser\")\n",
    "pages = soup.find(\"div\", class_=\"d_flex ai_center gap_s4\").find_all(\"a\")\n",
    "last_page = int(list(pages[-1].stripped_strings)[-1])\n",
    "\n",
    "jobs = []\n",
    "\n",
    "for page_number in range(1, last_page):\n",
    "    uri = f\"{url}&page={page_number}\"\n",
    "    page = requests.get(uri)\n",
    "    soup = BeautifulSoup(page.content, \"html.parser\")\n",
    "    jobs.extend(job for job in get_jobs(soup))\n",
    "\n",
    "print(len(jobs))\n",
    "print(jobs[0])"
   ]
  },
  {
   "cell_type": "markdown",
   "id": "5bf952fe",
   "metadata": {},
   "source": [
    "# Data Cleaning"
   ]
  },
  {
   "cell_type": "code",
   "execution_count": 5,
   "id": "580f2d9d",
   "metadata": {},
   "outputs": [
    {
     "data": {
      "text/html": [
       "<div>\n",
       "<style scoped>\n",
       "    .dataframe tbody tr th:only-of-type {\n",
       "        vertical-align: middle;\n",
       "    }\n",
       "\n",
       "    .dataframe tbody tr th {\n",
       "        vertical-align: top;\n",
       "    }\n",
       "\n",
       "    .dataframe thead th {\n",
       "        text-align: right;\n",
       "    }\n",
       "</style>\n",
       "<table border=\"1\" class=\"dataframe\">\n",
       "  <thead>\n",
       "    <tr style=\"text-align: right;\">\n",
       "      <th></th>\n",
       "      <th>published</th>\n",
       "      <th>title</th>\n",
       "      <th>location</th>\n",
       "      <th>workload</th>\n",
       "      <th>employment_type</th>\n",
       "      <th>company</th>\n",
       "    </tr>\n",
       "  </thead>\n",
       "  <tbody>\n",
       "    <tr>\n",
       "      <th>0</th>\n",
       "      <td>2024-11-27</td>\n",
       "      <td>MES Engineer</td>\n",
       "      <td>Solothurn</td>\n",
       "      <td>100%</td>\n",
       "      <td>Unlimited employment</td>\n",
       "      <td>Emerson Automation Solutions</td>\n",
       "    </tr>\n",
       "    <tr>\n",
       "      <th>1</th>\n",
       "      <td>2024-11-13</td>\n",
       "      <td>Process Development Engineer 100%</td>\n",
       "      <td>Luzern</td>\n",
       "      <td>100%</td>\n",
       "      <td>Unlimited employment</td>\n",
       "      <td>Schurter AG</td>\n",
       "    </tr>\n",
       "    <tr>\n",
       "      <th>2</th>\n",
       "      <td>2024-11-02</td>\n",
       "      <td>DevOps Engineer C2I</td>\n",
       "      <td>Dübendorf</td>\n",
       "      <td>100%</td>\n",
       "      <td>Unlimited employment</td>\n",
       "      <td>RUAG MRO Holding AG</td>\n",
       "    </tr>\n",
       "    <tr>\n",
       "      <th>3</th>\n",
       "      <td>2024-11-12</td>\n",
       "      <td>Production Process Control Engineer</td>\n",
       "      <td>Schlieren</td>\n",
       "      <td>80 – 100%</td>\n",
       "      <td>Unlimited employment</td>\n",
       "      <td>EXALOS AG</td>\n",
       "    </tr>\n",
       "    <tr>\n",
       "      <th>4</th>\n",
       "      <td>2024-11-20</td>\n",
       "      <td>Senior FPGA Engineer (f/m/d)</td>\n",
       "      <td>Heerbrugg</td>\n",
       "      <td>100%</td>\n",
       "      <td>Unlimited employment</td>\n",
       "      <td>Leica Geosystems AG</td>\n",
       "    </tr>\n",
       "  </tbody>\n",
       "</table>\n",
       "</div>"
      ],
      "text/plain": [
       "    published                                title   location   workload  \\\n",
       "0  2024-11-27                         MES Engineer  Solothurn       100%   \n",
       "1  2024-11-13    Process Development Engineer 100%     Luzern       100%   \n",
       "2  2024-11-02                  DevOps Engineer C2I  Dübendorf       100%   \n",
       "3  2024-11-12  Production Process Control Engineer  Schlieren  80 – 100%   \n",
       "4  2024-11-20         Senior FPGA Engineer (f/m/d)  Heerbrugg       100%   \n",
       "\n",
       "        employment_type                       company  \n",
       "0  Unlimited employment  Emerson Automation Solutions  \n",
       "1  Unlimited employment                   Schurter AG  \n",
       "2  Unlimited employment           RUAG MRO Holding AG  \n",
       "3  Unlimited employment                     EXALOS AG  \n",
       "4  Unlimited employment           Leica Geosystems AG  "
      ]
     },
     "execution_count": 5,
     "metadata": {},
     "output_type": "execute_result"
    }
   ],
   "source": [
    "jobs_df = pd.DataFrame([j.__dict__ for j in jobs])\n",
    "jobs_df.head()"
   ]
  },
  {
   "cell_type": "code",
   "execution_count": 6,
   "id": "9cc89f37",
   "metadata": {},
   "outputs": [],
   "source": [
    "jobs_df['published'] = pd.to_datetime(jobs_df['published'], errors='coerce')\n",
    "jobs_df.fillna(value={'salary': 'Not specified', 'employment_type': 'Not specified'}, inplace=True)"
   ]
  },
  {
   "cell_type": "markdown",
   "id": "1a672bac",
   "metadata": {},
   "source": [
    "# Insert Data into DB"
   ]
  },
  {
   "cell_type": "code",
   "execution_count": 7,
   "id": "929058e6",
   "metadata": {},
   "outputs": [
    {
     "data": {
      "text/plain": [
       "<duckdb.duckdb.DuckDBPyConnection at 0x115fd6930>"
      ]
     },
     "execution_count": 7,
     "metadata": {},
     "output_type": "execute_result"
    }
   ],
   "source": [
    "con = duckdb.connect(database='jobs.duckdb', read_only=False)\n",
    "con.execute(\"DROP TABLE IF EXISTS jobs\")\n",
    "con.register('jobs_df_view', jobs_df)\n",
    "con.execute(\"CREATE TABLE jobs AS SELECT * FROM jobs_df_view\")"
   ]
  },
  {
   "cell_type": "markdown",
   "id": "02aaaf2b",
   "metadata": {},
   "source": [
    "# Inspect data"
   ]
  },
  {
   "cell_type": "code",
   "execution_count": 8,
   "id": "f03de1a1",
   "metadata": {},
   "outputs": [
    {
     "data": {
      "text/plain": [
       "1304"
      ]
     },
     "execution_count": 8,
     "metadata": {},
     "output_type": "execute_result"
    }
   ],
   "source": [
    "amount, = con.execute(\"select count(*) from jobs\").fetchone()\n",
    "amount"
   ]
  },
  {
   "cell_type": "code",
   "execution_count": 9,
   "id": "1df12b8c",
   "metadata": {},
   "outputs": [
    {
     "data": {
      "text/html": [
       "<div>\n",
       "<style scoped>\n",
       "    .dataframe tbody tr th:only-of-type {\n",
       "        vertical-align: middle;\n",
       "    }\n",
       "\n",
       "    .dataframe tbody tr th {\n",
       "        vertical-align: top;\n",
       "    }\n",
       "\n",
       "    .dataframe thead th {\n",
       "        text-align: right;\n",
       "    }\n",
       "</style>\n",
       "<table border=\"1\" class=\"dataframe\">\n",
       "  <thead>\n",
       "    <tr style=\"text-align: right;\">\n",
       "      <th></th>\n",
       "      <th>published</th>\n",
       "      <th>title</th>\n",
       "      <th>location</th>\n",
       "      <th>workload</th>\n",
       "      <th>employment_type</th>\n",
       "      <th>company</th>\n",
       "    </tr>\n",
       "  </thead>\n",
       "  <tbody>\n",
       "    <tr>\n",
       "      <th>0</th>\n",
       "      <td>2024-11-27</td>\n",
       "      <td>MES Engineer</td>\n",
       "      <td>Solothurn</td>\n",
       "      <td>100%</td>\n",
       "      <td>Unlimited employment</td>\n",
       "      <td>Emerson Automation Solutions</td>\n",
       "    </tr>\n",
       "    <tr>\n",
       "      <th>1</th>\n",
       "      <td>2024-11-13</td>\n",
       "      <td>Process Development Engineer 100%</td>\n",
       "      <td>Luzern</td>\n",
       "      <td>100%</td>\n",
       "      <td>Unlimited employment</td>\n",
       "      <td>Schurter AG</td>\n",
       "    </tr>\n",
       "    <tr>\n",
       "      <th>2</th>\n",
       "      <td>2024-11-02</td>\n",
       "      <td>DevOps Engineer C2I</td>\n",
       "      <td>Dübendorf</td>\n",
       "      <td>100%</td>\n",
       "      <td>Unlimited employment</td>\n",
       "      <td>RUAG MRO Holding AG</td>\n",
       "    </tr>\n",
       "    <tr>\n",
       "      <th>3</th>\n",
       "      <td>2024-11-12</td>\n",
       "      <td>Production Process Control Engineer</td>\n",
       "      <td>Schlieren</td>\n",
       "      <td>80 – 100%</td>\n",
       "      <td>Unlimited employment</td>\n",
       "      <td>EXALOS AG</td>\n",
       "    </tr>\n",
       "    <tr>\n",
       "      <th>4</th>\n",
       "      <td>2024-11-20</td>\n",
       "      <td>Senior FPGA Engineer (f/m/d)</td>\n",
       "      <td>Heerbrugg</td>\n",
       "      <td>100%</td>\n",
       "      <td>Unlimited employment</td>\n",
       "      <td>Leica Geosystems AG</td>\n",
       "    </tr>\n",
       "  </tbody>\n",
       "</table>\n",
       "</div>"
      ],
      "text/plain": [
       "   published                                title   location   workload  \\\n",
       "0 2024-11-27                         MES Engineer  Solothurn       100%   \n",
       "1 2024-11-13    Process Development Engineer 100%     Luzern       100%   \n",
       "2 2024-11-02                  DevOps Engineer C2I  Dübendorf       100%   \n",
       "3 2024-11-12  Production Process Control Engineer  Schlieren  80 – 100%   \n",
       "4 2024-11-20         Senior FPGA Engineer (f/m/d)  Heerbrugg       100%   \n",
       "\n",
       "        employment_type                       company  \n",
       "0  Unlimited employment  Emerson Automation Solutions  \n",
       "1  Unlimited employment                   Schurter AG  \n",
       "2  Unlimited employment           RUAG MRO Holding AG  \n",
       "3  Unlimited employment                     EXALOS AG  \n",
       "4  Unlimited employment           Leica Geosystems AG  "
      ]
     },
     "execution_count": 9,
     "metadata": {},
     "output_type": "execute_result"
    }
   ],
   "source": [
    "example = con.execute(\"select * from jobs limit 5\").fetchdf()\n",
    "example"
   ]
  },
  {
   "cell_type": "markdown",
   "id": "609832cd",
   "metadata": {},
   "source": [
    "# Cleanup"
   ]
  },
  {
   "cell_type": "code",
   "execution_count": 10,
   "id": "f9cdaef7",
   "metadata": {},
   "outputs": [],
   "source": [
    "con.close()"
   ]
  }
 ],
 "metadata": {
  "kernelspec": {
   "display_name": ".venv",
   "language": "python",
   "name": "python3"
  },
  "language_info": {
   "codemirror_mode": {
    "name": "ipython",
    "version": 3
   },
   "file_extension": ".py",
   "mimetype": "text/x-python",
   "name": "python",
   "nbconvert_exporter": "python",
   "pygments_lexer": "ipython3",
   "version": "3.10.15"
  }
 },
 "nbformat": 4,
 "nbformat_minor": 5
}
